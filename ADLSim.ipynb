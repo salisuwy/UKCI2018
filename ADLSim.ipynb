{
 "cells": [
  {
   "cell_type": "code",
   "execution_count": 2,
   "metadata": {
    "collapsed": true
   },
   "outputs": [],
   "source": [
    "from enum import Enum\n",
    "\n",
    "class Activities(Enum):\n",
    "    eating = 'Eating'\n",
    "    sleeping = 'Sleeping'\n",
    "    toileting = 'Toileting'\n",
    "    television = 'Television'\n",
    "    cooking = 'Cooking'\n",
    "\n",
    "class Locations(Enum):\n",
    "    dining = 'Dining'\n",
    "    bedroom = 'Bedroom'\n",
    "    toilet = 'Toilet'\n",
    "    livingroom = 'Living Room'\n",
    "    kitchen = 'Kitchen'\n"
   ]
  },
  {
   "cell_type": "code",
   "execution_count": 32,
   "metadata": {},
   "outputs": [],
   "source": [
    "import datetime\n",
    "\n",
    "year, month, day = 2018, 1, 1\n",
    "hour, minute, second = 6, 1, 1 \n",
    "dformat = '%Y-%m-%d %H:%M:%S' \n",
    "\n",
    "start = datetime.datetime(year, month, day, hour, minute, second)\n",
    "current = start\n",
    "\n",
    "#end = current + datetime.timedelta(minutes=10000)\n",
    "#print(current.strftime(dformat))\n",
    "#print(end.strftime(dformat))"
   ]
  },
  {
   "cell_type": "code",
   "execution_count": 47,
   "metadata": {},
   "outputs": [],
   "source": [
    "def gen_single(current, activity, location, duration, blank=False):\n",
    "    end = current + datetime.timedelta(minutes=duration)\n",
    "    single = { \n",
    "                'Start Time': current.strftime(dformat),\n",
    "                'End Time': end.strftime(dformat), \n",
    "                'Activity': activity.value, \n",
    "                'Location': location.value\n",
    "             }\n",
    "    current = end\n",
    "    return single, current\n",
    "\n",
    "\n",
    "#act, current = gen_single(current, Activities.eating, Locations.dining, 30)\n",
    "#print(act)\n"
   ]
  },
  {
   "cell_type": "code",
   "execution_count": 49,
   "metadata": {},
   "outputs": [],
   "source": [
    "# List of ADLs\n",
    "act_list = []\n",
    "list = [\n",
    "    {\n",
    "        'activity': Activities.eating,\n",
    "        'location': Locations.dining,\n",
    "        'duration': 18\n",
    "    },\n",
    "    {\n",
    "        'activity': Activities.television,\n",
    "        'location': Locations.livingroom,\n",
    "        'duration': 142\n",
    "    },\n",
    "    {\n",
    "        'activity': Activities.sleeping,\n",
    "        'location': Locations.bedroom,\n",
    "        'duration': 450\n",
    "    }\n",
    "]\n",
    "\n"
   ]
  },
  {
   "cell_type": "code",
   "execution_count": 51,
   "metadata": {},
   "outputs": [
    {
     "data": {
      "text/html": [
       "<div>\n",
       "<style>\n",
       "    .dataframe thead tr:only-child th {\n",
       "        text-align: right;\n",
       "    }\n",
       "\n",
       "    .dataframe thead th {\n",
       "        text-align: left;\n",
       "    }\n",
       "\n",
       "    .dataframe tbody tr th {\n",
       "        vertical-align: top;\n",
       "    }\n",
       "</style>\n",
       "<table border=\"1\" class=\"dataframe\">\n",
       "  <thead>\n",
       "    <tr style=\"text-align: right;\">\n",
       "      <th></th>\n",
       "      <th>Activity</th>\n",
       "      <th>End Time</th>\n",
       "      <th>Location</th>\n",
       "      <th>Start Time</th>\n",
       "    </tr>\n",
       "  </thead>\n",
       "  <tbody>\n",
       "    <tr>\n",
       "      <th>0</th>\n",
       "      <td>Eating</td>\n",
       "      <td>2018-01-02 06:09:01</td>\n",
       "      <td>Dining</td>\n",
       "      <td>2018-01-02 05:51:01</td>\n",
       "    </tr>\n",
       "    <tr>\n",
       "      <th>1</th>\n",
       "      <td>Television</td>\n",
       "      <td>2018-01-02 08:31:01</td>\n",
       "      <td>Living Room</td>\n",
       "      <td>2018-01-02 06:09:01</td>\n",
       "    </tr>\n",
       "    <tr>\n",
       "      <th>2</th>\n",
       "      <td>Sleeping</td>\n",
       "      <td>2018-01-02 16:01:01</td>\n",
       "      <td>Bedroom</td>\n",
       "      <td>2018-01-02 08:31:01</td>\n",
       "    </tr>\n",
       "    <tr>\n",
       "      <th>3</th>\n",
       "      <td>Eating</td>\n",
       "      <td>2018-01-02 16:19:01</td>\n",
       "      <td>Dining</td>\n",
       "      <td>2018-01-02 16:01:01</td>\n",
       "    </tr>\n",
       "    <tr>\n",
       "      <th>4</th>\n",
       "      <td>Television</td>\n",
       "      <td>2018-01-02 18:41:01</td>\n",
       "      <td>Living Room</td>\n",
       "      <td>2018-01-02 16:19:01</td>\n",
       "    </tr>\n",
       "    <tr>\n",
       "      <th>5</th>\n",
       "      <td>Sleeping</td>\n",
       "      <td>2018-01-03 02:11:01</td>\n",
       "      <td>Bedroom</td>\n",
       "      <td>2018-01-02 18:41:01</td>\n",
       "    </tr>\n",
       "  </tbody>\n",
       "</table>\n",
       "</div>"
      ],
      "text/plain": [
       "     Activity             End Time     Location           Start Time\n",
       "0      Eating  2018-01-02 06:09:01       Dining  2018-01-02 05:51:01\n",
       "1  Television  2018-01-02 08:31:01  Living Room  2018-01-02 06:09:01\n",
       "2    Sleeping  2018-01-02 16:01:01      Bedroom  2018-01-02 08:31:01\n",
       "3      Eating  2018-01-02 16:19:01       Dining  2018-01-02 16:01:01\n",
       "4  Television  2018-01-02 18:41:01  Living Room  2018-01-02 16:19:01\n",
       "5    Sleeping  2018-01-03 02:11:01      Bedroom  2018-01-02 18:41:01"
      ]
     },
     "execution_count": 51,
     "metadata": {},
     "output_type": "execute_result"
    }
   ],
   "source": [
    "import pandas as pd\n",
    "\n",
    "for i in list:\n",
    "    act, current = gen_single(current, i['activity'], i['location'], i['duration'])\n",
    "    act_list.append(act)\n",
    "    \n",
    "pd.DataFrame(act_list)"
   ]
  },
  {
   "cell_type": "code",
   "execution_count": null,
   "metadata": {
    "collapsed": true
   },
   "outputs": [],
   "source": []
  }
 ],
 "metadata": {
  "kernelspec": {
   "display_name": "Python 3",
   "language": "python",
   "name": "python3"
  },
  "language_info": {
   "codemirror_mode": {
    "name": "ipython",
    "version": 3
   },
   "file_extension": ".py",
   "mimetype": "text/x-python",
   "name": "python",
   "nbconvert_exporter": "python",
   "pygments_lexer": "ipython3",
   "version": "3.6.3"
  }
 },
 "nbformat": 4,
 "nbformat_minor": 2
}
