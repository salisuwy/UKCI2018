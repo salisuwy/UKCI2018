{
 "cells": [
  {
   "cell_type": "code",
   "execution_count": 1,
   "metadata": {
    "collapsed": true
   },
   "outputs": [],
   "source": [
    "from __future__ import print_function\n",
    "import os\n",
    "import numpy as np\n",
    "import pandas as pd\n",
    "import matplotlib\n",
    "import matplotlib.pyplot as plt\n",
    "\n",
    "%matplotlib inline\n",
    "\n",
    "\n",
    "def get_path(fname):\n",
    "    return os.sep.join([fname])\n",
    "\n",
    "\n",
    "flist = ['DD1.csv','DD2.csv','DD3.csv', 'DD4.csv']\n",
    "cols = ['Id', 'Activity', 'Start', 'End', 'Duration', 'Hour']\n",
    "\n",
    "d = []\n",
    "for fitem in flist:\n",
    "    data = pd.read_csv(get_path(fitem), sep=',', names=cols, skiprows=1)\n",
    "    data.drop(['Id'], axis=1, inplace=True)\n",
    "    #data.drop(['Hour'], axis=1, inplace=True)\n",
    "    data['Start'] = pd.to_datetime(data['Start'])\n",
    "    data['End'] = pd.to_datetime(data['End'])\n",
    "    d.append(data)\n",
    "\n",
    "d1 = d[0]\n",
    "d2 = d[1]\n",
    "d3 = d[2]\n",
    "d4 = d[3]"
   ]
  },
  {
   "cell_type": "code",
   "execution_count": 2,
   "metadata": {},
   "outputs": [
    {
     "data": {
      "image/png": "[encoded data removed]",
      "text/plain": [
       "<matplotlib.figure.Figure at 0x7f2b75c8e198>"
      ]
     },
     "metadata": {},
     "output_type": "display_data"
    }
   ],
   "source": [
    "# Plot data points against start time \n",
    "plt.xlim(0, 23)\n",
    "plt.xticks(range(24))\n",
    "plt.ylim(0, 720)\n",
    "plt.xlabel('Hour')\n",
    "plt.ylabel('Duration (mins)')\n",
    "\n",
    "plt.scatter(d1['Hour'], d1['Duration'], marker='.')\n",
    "plt.scatter(d2['Hour'], d2['Duration'], marker='*')\n",
    "plt.scatter(d3['Hour'], d3['Duration'], marker='.')\n",
    "plt.scatter(d4['Hour'], d4['Duration'], marker='*')\n",
    "plt.show()\n",
    "\n"
   ]
  },
  {
   "cell_type": "code",
   "execution_count": 3,
   "metadata": {
    "scrolled": true
   },
   "outputs": [
    {
     "data": {
      "text/html": [
       "<div>\n",
       "<style>\n",
       "    .dataframe thead tr:only-child th {\n",
       "        text-align: right;\n",
       "    }\n",
       "\n",
       "    .dataframe thead th {\n",
       "        text-align: left;\n",
       "    }\n",
       "\n",
       "    .dataframe tbody tr th {\n",
       "        vertical-align: top;\n",
       "    }\n",
       "</style>\n",
       "<table border=\"1\" class=\"dataframe\">\n",
       "  <thead>\n",
       "    <tr style=\"text-align: right;\">\n",
       "      <th></th>\n",
       "      <th>Activity</th>\n",
       "      <th>Start</th>\n",
       "      <th>End</th>\n",
       "      <th>Duration</th>\n",
       "      <th>Hour</th>\n",
       "      <th>Day</th>\n",
       "      <th>Is_Weekend</th>\n",
       "      <th>D</th>\n",
       "      <th>Mad</th>\n",
       "      <th>Mean</th>\n",
       "      <th>Min</th>\n",
       "      <th>Max</th>\n",
       "      <th>Std</th>\n",
       "      <th>Var</th>\n",
       "    </tr>\n",
       "  </thead>\n",
       "  <tbody>\n",
       "    <tr>\n",
       "      <th>0</th>\n",
       "      <td>Sleeping</td>\n",
       "      <td>2010-12-29 21:27:00</td>\n",
       "      <td>2010-12-30 05:24:00</td>\n",
       "      <td>477</td>\n",
       "      <td>21.450000</td>\n",
       "      <td>2</td>\n",
       "      <td>0</td>\n",
       "      <td>477</td>\n",
       "      <td>0.0</td>\n",
       "      <td>477.0</td>\n",
       "      <td>477.0</td>\n",
       "      <td>477.0</td>\n",
       "      <td>NaN</td>\n",
       "      <td>NaN</td>\n",
       "    </tr>\n",
       "    <tr>\n",
       "      <th>1</th>\n",
       "      <td>Sleeping</td>\n",
       "      <td>2010-12-30 21:33:00</td>\n",
       "      <td>2010-12-31 05:15:00</td>\n",
       "      <td>462</td>\n",
       "      <td>21.550000</td>\n",
       "      <td>3</td>\n",
       "      <td>0</td>\n",
       "      <td>462</td>\n",
       "      <td>7.5</td>\n",
       "      <td>469.5</td>\n",
       "      <td>462.0</td>\n",
       "      <td>477.0</td>\n",
       "      <td>10.606602</td>\n",
       "      <td>112.5</td>\n",
       "    </tr>\n",
       "    <tr>\n",
       "      <th>2</th>\n",
       "      <td>Sleeping</td>\n",
       "      <td>2010-12-31 21:15:00</td>\n",
       "      <td>2011-01-01 05:38:00</td>\n",
       "      <td>503</td>\n",
       "      <td>21.250000</td>\n",
       "      <td>4</td>\n",
       "      <td>0</td>\n",
       "      <td>503</td>\n",
       "      <td>20.5</td>\n",
       "      <td>482.5</td>\n",
       "      <td>462.0</td>\n",
       "      <td>503.0</td>\n",
       "      <td>28.991378</td>\n",
       "      <td>840.5</td>\n",
       "    </tr>\n",
       "    <tr>\n",
       "      <th>3</th>\n",
       "      <td>Sleeping</td>\n",
       "      <td>2011-01-01 21:28:00</td>\n",
       "      <td>2011-01-02 05:56:00</td>\n",
       "      <td>508</td>\n",
       "      <td>21.466667</td>\n",
       "      <td>5</td>\n",
       "      <td>1</td>\n",
       "      <td>508</td>\n",
       "      <td>2.5</td>\n",
       "      <td>505.5</td>\n",
       "      <td>503.0</td>\n",
       "      <td>508.0</td>\n",
       "      <td>3.535534</td>\n",
       "      <td>12.5</td>\n",
       "    </tr>\n",
       "    <tr>\n",
       "      <th>4</th>\n",
       "      <td>Sleeping</td>\n",
       "      <td>2011-01-02 21:46:00</td>\n",
       "      <td>2011-01-03 06:10:00</td>\n",
       "      <td>504</td>\n",
       "      <td>21.766667</td>\n",
       "      <td>6</td>\n",
       "      <td>1</td>\n",
       "      <td>504</td>\n",
       "      <td>2.0</td>\n",
       "      <td>506.0</td>\n",
       "      <td>504.0</td>\n",
       "      <td>508.0</td>\n",
       "      <td>2.828427</td>\n",
       "      <td>8.0</td>\n",
       "    </tr>\n",
       "  </tbody>\n",
       "</table>\n",
       "</div>"
      ],
      "text/plain": [
       "   Activity               Start                 End  Duration       Hour  Day  \\\n",
       "0  Sleeping 2010-12-29 21:27:00 2010-12-30 05:24:00       477  21.450000    2   \n",
       "1  Sleeping 2010-12-30 21:33:00 2010-12-31 05:15:00       462  21.550000    3   \n",
       "2  Sleeping 2010-12-31 21:15:00 2011-01-01 05:38:00       503  21.250000    4   \n",
       "3  Sleeping 2011-01-01 21:28:00 2011-01-02 05:56:00       508  21.466667    5   \n",
       "4  Sleeping 2011-01-02 21:46:00 2011-01-03 06:10:00       504  21.766667    6   \n",
       "\n",
       "   Is_Weekend    D   Mad   Mean    Min    Max        Std    Var  \n",
       "0           0  477   0.0  477.0  477.0  477.0        NaN    NaN  \n",
       "1           0  462   7.5  469.5  462.0  477.0  10.606602  112.5  \n",
       "2           0  503  20.5  482.5  462.0  503.0  28.991378  840.5  \n",
       "3           1  508   2.5  505.5  503.0  508.0   3.535534   12.5  \n",
       "4           1  504   2.0  506.0  504.0  508.0   2.828427    8.0  "
      ]
     },
     "execution_count": 3,
     "metadata": {},
     "output_type": "execute_result"
    }
   ],
   "source": [
    "mad = lambda x: np.fabs(x - x.mean()).mean()\n",
    "\n",
    "win_size = 2\n",
    "\n",
    "#d2\n",
    "d2['Day'] = d2['Start'].map(lambda x: x.dayofweek)\n",
    "d2['Is_Weekend'] = d2['Day'].map(lambda x: 1 if x in [5, 6] else 0)\n",
    "d2['D'] = d2['Duration']\n",
    "d2['Mad'] = d2['D'].rolling(win_size, min_periods=1).apply(mad)\n",
    "d2['Mean'] = d2['D'].rolling(win_size, min_periods=1).mean()\n",
    "d2['Min'] = d2['D'].rolling(win_size, min_periods=1).min()\n",
    "d2['Max'] = d2['D'].rolling(win_size, min_periods=1).max()\n",
    "d2['Std'] = d2['D'].rolling(win_size, min_periods=1).std()\n",
    "d2['Var'] = d2['D'].rolling(win_size, min_periods=1).var()\n",
    "d2.head(5)\n",
    "\n",
    "#d3\n",
    "d3['Day'] = d3['Start'].map(lambda x: x.dayofweek)\n",
    "d3['Is_Weekend'] = d3['Day'].map(lambda x: 1 if x in [5, 6] else 0)\n",
    "d3['D'] = d3['Duration']\n",
    "d3['Mad'] = d3['D'].rolling(win_size, min_periods=1).apply(mad)\n",
    "d3['Mean'] = d3['D'].rolling(win_size, min_periods=1).mean()\n",
    "d3['Min'] = d3['D'].rolling(win_size, min_periods=1).min()\n",
    "d3['Max'] = d3['D'].rolling(win_size, min_periods=1).max()\n",
    "d3['Std'] = d3['D'].rolling(win_size, min_periods=1).std()\n",
    "d3['Var'] = d3['D'].rolling(win_size, min_periods=1).var()\n",
    "d3.head(5)"
   ]
  },
  {
   "cell_type": "code",
   "execution_count": 260,
   "metadata": {},
   "outputs": [
    {
     "data": {
      "text/plain": [
       "(124, 4)"
      ]
     },
     "execution_count": 260,
     "metadata": {},
     "output_type": "execute_result"
    }
   ],
   "source": [
    "d3_dataset = d3[['Hour', 'Day', 'Is_Weekend', 'Mad', 'Mean', 'Min', 'Max', 'Std', 'Var']].values\n",
    "d3_dataset = d3[['Hour', 'D', 'Day', 'Is_Weekend']].values\n",
    "d3_dataset = np.nan_to_num(d3_dataset)\n",
    "d3_dataset = d3_dataset[1:-1, 0:]\n",
    "\n",
    "\n",
    "d2_dataset = d2[['Hour', 'Day', 'Is_Weekend', 'Mad', 'Mean', 'Min', 'Max', 'Std', 'Var']].values\n",
    "d2_dataset = d2[['Hour', 'D', 'Day', 'Is_Weekend']].values\n",
    "d2_dataset = np.nan_to_num(d2_dataset)\n",
    "d2_dataset = d2_dataset[1:-1, 0:]\n",
    "\n",
    "d2_d3 = np.concatenate((d3_dataset, d2_dataset), axis=0)\n",
    "d2_d3.shape"
   ]
  },
  {
   "cell_type": "code",
   "execution_count": 261,
   "metadata": {
    "collapsed": true
   },
   "outputs": [],
   "source": [
    "from sklearn.preprocessing import MinMaxScaler\n",
    "scaler = MinMaxScaler()\n",
    "\n",
    "d2_scaled = scaler.fit_transform(d2_dataset)\n",
    "\n",
    "d3_scaled = scaler.fit_transform(d3_dataset)\n",
    "\n",
    "#d2_d3_scaled = scaler.fit_transform(d2_d3)"
   ]
  },
  {
   "cell_type": "code",
   "execution_count": 262,
   "metadata": {
    "scrolled": true
   },
   "outputs": [
    {
     "name": "stdout",
     "output_type": "stream",
     "text": [
      "75\n",
      "22\n",
      "27\n",
      "2\n",
      "1\n",
      "25\n"
     ]
    }
   ],
   "source": [
    "from sklearn import svm\n",
    "X_train = d3_scaled[:75, :]\n",
    "X_test = d3_scaled[75:, :]\n",
    "X_outliers = d2_scaled[:, :]\n",
    "\n",
    "# fit the model\n",
    "clf = svm.OneClassSVM(nu=0.01, kernel=\"rbf\", gamma=0.1)\n",
    "clf.fit(X_train)\n",
    "y_pred_train = clf.predict(X_train)\n",
    "y_pred_test = clf.predict(X_test)\n",
    "y_pred_outliers = clf.predict(X_outliers)\n",
    "n_error_train = y_pred_train[y_pred_train == -1].size\n",
    "n_error_test = y_pred_test[y_pred_test == -1].size\n",
    "n_error_outliers = y_pred_outliers[y_pred_outliers == 1].size\n",
    "\n",
    "\n",
    "print(X_train.shape[0])\n",
    "print(X_test.shape[0])\n",
    "print(X_outliers.shape[0])\n",
    "print(n_error_train)\n",
    "print(n_error_test)\n",
    "print(n_error_outliers)\n"
   ]
  },
  {
   "cell_type": "code",
   "execution_count": null,
   "metadata": {
    "collapsed": true
   },
   "outputs": [],
   "source": []
  },
  {
   "cell_type": "code",
   "execution_count": null,
   "metadata": {
    "collapsed": true
   },
   "outputs": [],
   "source": []
  },
  {
   "cell_type": "code",
   "execution_count": null,
   "metadata": {
    "collapsed": true
   },
   "outputs": [],
   "source": []
  },
  {
   "cell_type": "code",
   "execution_count": 236,
   "metadata": {},
   "outputs": [
    {
     "ename": "ValueError",
     "evalue": "X.shape[1] = 2 should be equal to 9, the number of features at training time",
     "output_type": "error",
     "traceback": [
      "\u001b[0;31m---------------------------------------------------------------------------\u001b[0m",
      "\u001b[0;31mValueError\u001b[0m                                Traceback (most recent call last)",
      "\u001b[0;32m<ipython-input-236-f2fe86099e8f>\u001b[0m in \u001b[0;36m<module>\u001b[0;34m()\u001b[0m\n\u001b[1;32m      1\u001b[0m \u001b[0mxx\u001b[0m\u001b[0;34m,\u001b[0m \u001b[0myy\u001b[0m \u001b[0;34m=\u001b[0m \u001b[0mnp\u001b[0m\u001b[0;34m.\u001b[0m\u001b[0mmeshgrid\u001b[0m\u001b[0;34m(\u001b[0m\u001b[0mnp\u001b[0m\u001b[0;34m.\u001b[0m\u001b[0mlinspace\u001b[0m\u001b[0;34m(\u001b[0m\u001b[0;34m-\u001b[0m\u001b[0;36m5\u001b[0m\u001b[0;34m,\u001b[0m \u001b[0;36m5\u001b[0m\u001b[0;34m,\u001b[0m \u001b[0;36m500\u001b[0m\u001b[0;34m)\u001b[0m\u001b[0;34m,\u001b[0m \u001b[0mnp\u001b[0m\u001b[0;34m.\u001b[0m\u001b[0mlinspace\u001b[0m\u001b[0;34m(\u001b[0m\u001b[0;34m-\u001b[0m\u001b[0;36m5\u001b[0m\u001b[0;34m,\u001b[0m \u001b[0;36m5\u001b[0m\u001b[0;34m,\u001b[0m \u001b[0;36m500\u001b[0m\u001b[0;34m)\u001b[0m\u001b[0;34m)\u001b[0m\u001b[0;34m\u001b[0m\u001b[0m\n\u001b[1;32m      2\u001b[0m \u001b[0;31m# plot the line, the points, and the nearest vectors to the plane\u001b[0m\u001b[0;34m\u001b[0m\u001b[0;34m\u001b[0m\u001b[0m\n\u001b[0;32m----> 3\u001b[0;31m \u001b[0mZ\u001b[0m \u001b[0;34m=\u001b[0m \u001b[0mclf\u001b[0m\u001b[0;34m.\u001b[0m\u001b[0mdecision_function\u001b[0m\u001b[0;34m(\u001b[0m\u001b[0mnp\u001b[0m\u001b[0;34m.\u001b[0m\u001b[0mc_\u001b[0m\u001b[0;34m[\u001b[0m\u001b[0mxx\u001b[0m\u001b[0;34m.\u001b[0m\u001b[0mravel\u001b[0m\u001b[0;34m(\u001b[0m\u001b[0;34m)\u001b[0m\u001b[0;34m,\u001b[0m \u001b[0myy\u001b[0m\u001b[0;34m.\u001b[0m\u001b[0mravel\u001b[0m\u001b[0;34m(\u001b[0m\u001b[0;34m)\u001b[0m\u001b[0;34m]\u001b[0m\u001b[0;34m)\u001b[0m\u001b[0;34m\u001b[0m\u001b[0m\n\u001b[0m\u001b[1;32m      4\u001b[0m \u001b[0mZ\u001b[0m \u001b[0;34m=\u001b[0m \u001b[0mZ\u001b[0m\u001b[0;34m.\u001b[0m\u001b[0mreshape\u001b[0m\u001b[0;34m(\u001b[0m\u001b[0mxx\u001b[0m\u001b[0;34m.\u001b[0m\u001b[0mshape\u001b[0m\u001b[0;34m)\u001b[0m\u001b[0;34m\u001b[0m\u001b[0m\n\u001b[1;32m      5\u001b[0m \u001b[0;34m\u001b[0m\u001b[0m\n",
      "\u001b[0;32m/opt/intel/intelpython3/lib/python3.6/site-packages/sklearn/svm/classes.py\u001b[0m in \u001b[0;36mdecision_function\u001b[0;34m(self, X)\u001b[0m\n\u001b[1;32m   1099\u001b[0m             \u001b[0mReturns\u001b[0m \u001b[0mthe\u001b[0m \u001b[0mdecision\u001b[0m \u001b[0mfunction\u001b[0m \u001b[0mof\u001b[0m \u001b[0mthe\u001b[0m \u001b[0msamples\u001b[0m\u001b[0;34m.\u001b[0m\u001b[0;34m\u001b[0m\u001b[0m\n\u001b[1;32m   1100\u001b[0m         \"\"\"\n\u001b[0;32m-> 1101\u001b[0;31m         \u001b[0mdec\u001b[0m \u001b[0;34m=\u001b[0m \u001b[0mself\u001b[0m\u001b[0;34m.\u001b[0m\u001b[0m_decision_function\u001b[0m\u001b[0;34m(\u001b[0m\u001b[0mX\u001b[0m\u001b[0;34m)\u001b[0m\u001b[0;34m\u001b[0m\u001b[0m\n\u001b[0m\u001b[1;32m   1102\u001b[0m         \u001b[0;32mreturn\u001b[0m \u001b[0mdec\u001b[0m\u001b[0;34m\u001b[0m\u001b[0m\n\u001b[1;32m   1103\u001b[0m \u001b[0;34m\u001b[0m\u001b[0m\n",
      "\u001b[0;32m/opt/intel/intelpython3/lib/python3.6/site-packages/sklearn/svm/base.py\u001b[0m in \u001b[0;36m_decision_function\u001b[0;34m(self, X)\u001b[0m\n\u001b[1;32m    382\u001b[0m         \u001b[0;31m# NOTE: _validate_for_predict contains check for is_fitted\u001b[0m\u001b[0;34m\u001b[0m\u001b[0;34m\u001b[0m\u001b[0m\n\u001b[1;32m    383\u001b[0m         \u001b[0;31m# hence must be placed before any other attributes are used.\u001b[0m\u001b[0;34m\u001b[0m\u001b[0;34m\u001b[0m\u001b[0m\n\u001b[0;32m--> 384\u001b[0;31m         \u001b[0mX\u001b[0m \u001b[0;34m=\u001b[0m \u001b[0mself\u001b[0m\u001b[0;34m.\u001b[0m\u001b[0m_validate_for_predict\u001b[0m\u001b[0;34m(\u001b[0m\u001b[0mX\u001b[0m\u001b[0;34m)\u001b[0m\u001b[0;34m\u001b[0m\u001b[0m\n\u001b[0m\u001b[1;32m    385\u001b[0m         \u001b[0mX\u001b[0m \u001b[0;34m=\u001b[0m \u001b[0mself\u001b[0m\u001b[0;34m.\u001b[0m\u001b[0m_compute_kernel\u001b[0m\u001b[0;34m(\u001b[0m\u001b[0mX\u001b[0m\u001b[0;34m)\u001b[0m\u001b[0;34m\u001b[0m\u001b[0m\n\u001b[1;32m    386\u001b[0m \u001b[0;34m\u001b[0m\u001b[0m\n",
      "\u001b[0;32m/opt/intel/intelpython3/lib/python3.6/site-packages/sklearn/svm/base.py\u001b[0m in \u001b[0;36m_validate_for_predict\u001b[0;34m(self, X)\u001b[0m\n\u001b[1;32m    457\u001b[0m             raise ValueError(\"X.shape[1] = %d should be equal to %d, \"\n\u001b[1;32m    458\u001b[0m                              \u001b[0;34m\"the number of features at training time\"\u001b[0m \u001b[0;34m%\u001b[0m\u001b[0;34m\u001b[0m\u001b[0m\n\u001b[0;32m--> 459\u001b[0;31m                              (n_features, self.shape_fit_[1]))\n\u001b[0m\u001b[1;32m    460\u001b[0m         \u001b[0;32mreturn\u001b[0m \u001b[0mX\u001b[0m\u001b[0;34m\u001b[0m\u001b[0m\n\u001b[1;32m    461\u001b[0m \u001b[0;34m\u001b[0m\u001b[0m\n",
      "\u001b[0;31mValueError\u001b[0m: X.shape[1] = 2 should be equal to 9, the number of features at training time"
     ]
    }
   ],
   "source": [
    "xx, yy = np.meshgrid(np.linspace(-5, 5, 500), np.linspace(-5, 5, 500))\n",
    "# plot the line, the points, and the nearest vectors to the plane\n",
    "Z = clf.decision_function(np.c_[xx.ravel(), yy.ravel()])\n",
    "Z = Z.reshape(xx.shape)\n",
    "\n",
    "plt.title(\"Novelty Detection\")\n",
    "plt.contourf(xx, yy, Z, levels=np.linspace(Z.min(), 0, 7), cmap=plt.cm.PuBu)\n",
    "a = plt.contour(xx, yy, Z, levels=[0], linewidths=2, colors='darkred')\n",
    "plt.contourf(xx, yy, Z, levels=[0, Z.max()], colors='palevioletred')\n",
    "\n",
    "s = 40\n",
    "b1 = plt.scatter(X_train[:, 0], X_train[:, 1], c='white', s=s, edgecolors='k')\n",
    "b2 = plt.scatter(X_test[:, 0], X_test[:, 1], c='blueviolet', s=s, edgecolors='k')\n",
    "c = plt.scatter(X_outliers[:, 0], X_outliers[:, 1], c='gold', s=s,edgecolors='k')\n",
    "plt.axis('tight')\n",
    "plt.xlim((-5, 5))\n",
    "plt.ylim((-5, 5))\n",
    "plt.legend([a.collections[0], b1, b2, c], [\"learned frontier\", \"training observations\", \"new regular observations\", \"new abnormal observations\"],\n",
    "           loc=\"upper left\", prop=matplotlib.font_manager.FontProperties(size=11))\n",
    "plt.xlabel(\n",
    "    \"error train: %d/200 ; errors novel regular: %d/40 ; \"\n",
    "    \"errors novel abnormal: %d/40\"\n",
    "    % (n_error_train, n_error_test, n_error_outliers))\n",
    "plt.show()"
   ]
  },
  {
   "cell_type": "code",
   "execution_count": null,
   "metadata": {
    "collapsed": true
   },
   "outputs": [],
   "source": []
  },
  {
   "cell_type": "code",
   "execution_count": null,
   "metadata": {
    "collapsed": true
   },
   "outputs": [],
   "source": []
  }
 ],
 "metadata": {
  "kernelspec": {
   "display_name": "Python 3",
   "language": "python",
   "name": "python3"
  },
  "language_info": {
   "codemirror_mode": {
    "name": "ipython",
    "version": 3
   },
   "file_extension": ".py",
   "mimetype": "text/x-python",
   "name": "python",
   "nbconvert_exporter": "python",
   "pygments_lexer": "ipython3",
   "version": "3.6.3"
  }
 },
 "nbformat": 4,
 "nbformat_minor": 2
}
