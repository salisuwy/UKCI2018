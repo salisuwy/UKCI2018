{
 "cells": [
  {
   "cell_type": "markdown",
   "metadata": {
    "collapsed": true
   },
   "source": [
    "# Generating Synthetic Data for 2 Years\n",
    "This generates data for 2 years "
   ]
  },
  {
   "cell_type": "code",
   "execution_count": 460,
   "metadata": {
    "scrolled": true
   },
   "outputs": [
    {
     "data": {
      "text/html": [
       "<div>\n",
       "<style>\n",
       "    .dataframe thead tr:only-child th {\n",
       "        text-align: right;\n",
       "    }\n",
       "\n",
       "    .dataframe thead th {\n",
       "        text-align: left;\n",
       "    }\n",
       "\n",
       "    .dataframe tbody tr th {\n",
       "        vertical-align: top;\n",
       "    }\n",
       "</style>\n",
       "<table border=\"1\" class=\"dataframe\">\n",
       "  <thead>\n",
       "    <tr style=\"text-align: right;\">\n",
       "      <th></th>\n",
       "      <th>Start_time</th>\n",
       "      <th>End_time</th>\n",
       "      <th>Duration</th>\n",
       "    </tr>\n",
       "  </thead>\n",
       "  <tbody>\n",
       "    <tr>\n",
       "      <th>0</th>\n",
       "      <td>2010-12-29 23:58:00</td>\n",
       "      <td>2010-12-30 07:45:00</td>\n",
       "      <td>467</td>\n",
       "    </tr>\n",
       "    <tr>\n",
       "      <th>1</th>\n",
       "      <td>2010-12-30 22:52:00</td>\n",
       "      <td>2010-12-31 07:01:00</td>\n",
       "      <td>489</td>\n",
       "    </tr>\n",
       "    <tr>\n",
       "      <th>2</th>\n",
       "      <td>2010-12-31 22:54:00</td>\n",
       "      <td>2011-01-01 06:28:00</td>\n",
       "      <td>454</td>\n",
       "    </tr>\n",
       "    <tr>\n",
       "      <th>3</th>\n",
       "      <td>2011-01-01 23:29:00</td>\n",
       "      <td>2011-01-02 08:04:00</td>\n",
       "      <td>515</td>\n",
       "    </tr>\n",
       "    <tr>\n",
       "      <th>4</th>\n",
       "      <td>2011-01-02 22:03:00</td>\n",
       "      <td>2011-01-03 06:35:00</td>\n",
       "      <td>512</td>\n",
       "    </tr>\n",
       "  </tbody>\n",
       "</table>\n",
       "</div>"
      ],
      "text/plain": [
       "           Start_time            End_time  Duration\n",
       "0 2010-12-29 23:58:00 2010-12-30 07:45:00       467\n",
       "1 2010-12-30 22:52:00 2010-12-31 07:01:00       489\n",
       "2 2010-12-31 22:54:00 2011-01-01 06:28:00       454\n",
       "3 2011-01-01 23:29:00 2011-01-02 08:04:00       515\n",
       "4 2011-01-02 22:03:00 2011-01-03 06:35:00       512"
      ]
     },
     "execution_count": 460,
     "metadata": {},
     "output_type": "execute_result"
    }
   ],
   "source": [
    "%matplotlib inline\n",
    "\n",
    "import datetime\n",
    "import random\n",
    "import math\n",
    "import numpy as np\n",
    "import pandas as pd\n",
    "from scipy import stats, integrate\n",
    "import matplotlib.pyplot as plt\n",
    "#import seaborn as sns\n",
    "#sns.set(color_codes=True)\n",
    "\n",
    "#random.seed(18750)\n",
    "\n",
    "# max and min sleep duration in minutes with extra 90mins for weekends\n",
    "min_sleep = 450 #minutes\n",
    "max_sleep = 510\n",
    "min_extra = 30\n",
    "max_extra = 60\n",
    "\n",
    "#dformat = '%Y-%m-%d' \n",
    "\n",
    "def daily(x, start=21):\n",
    "    sleep = random.randint(min_sleep, max_sleep)\n",
    "    start = random.randint(22, 23)\n",
    "    rand_min = random.randint(0, 59)\n",
    "    st_hour = datetime.time(start, rand_min)\n",
    "    start_time = datetime.datetime.combine(x, st_hour)\n",
    "    #weekday = x.dayofweek\n",
    "    #is_weekend = 1 if weekday >= 5 else 0\n",
    "    if(x.dayofweek >= 5):\n",
    "        sleep += random.randint(min_extra, max_extra)\n",
    "    \n",
    "    end_time = start_time + datetime.timedelta(minutes=sleep)\n",
    "    \n",
    "    return start_time, end_time, sleep\n",
    "\n",
    "\n",
    "\n",
    "dates = pd.date_range('2010-12-29', '2012-12-30')\n",
    "start_time, end_time, duration = [], [], []\n",
    "\n",
    "for x in dates:\n",
    "    start=21\n",
    "    start, end, dur = daily(x, start)\n",
    "    start_time.append(start)\n",
    "    end_time.append(end)\n",
    "    duration.append(dur)\n",
    "\n",
    "    \n",
    "dlist = list(zip(start_time, end_time, duration))\n",
    "columns = ['Start_time', 'End_time', 'Duration']\n",
    "d = pd.DataFrame(dlist, columns=columns)\n",
    "\n",
    "d.head(5)\n",
    "  "
   ]
  },
  {
   "cell_type": "code",
   "execution_count": 459,
   "metadata": {},
   "outputs": [
    {
     "data": {
      "image/png": "[encoded data removed]",
      "text/plain": [
       "<matplotlib.figure.Figure at 0x7ffbf62d7748>"
      ]
     },
     "metadata": {},
     "output_type": "display_data"
    }
   ],
   "source": [
    "import matplotlib.pyplot as plt\n",
    "\n",
    "plt.scatter(d['Start_time'].map(lambda x: x.hour + (x.minute/60)), d['Duration'])\n",
    "plt.xlim(0, 24)\n",
    "plt.xticks(range(24))\n",
    "plt.ylim(200, 800)\n",
    "plt.show()\n",
    "\n",
    "d.to_csv('export.csv')"
   ]
  },
  {
   "cell_type": "markdown",
   "metadata": {},
   "source": [
    "# Grouping and Plotting\n",
    "Grouping Data by week and Computing weekly Mean and Standard Deviation and plotting"
   ]
  },
  {
   "cell_type": "code",
   "execution_count": 361,
   "metadata": {
    "scrolled": false
   },
   "outputs": [
    {
     "data": {
      "image/png": "[encoded data removed]",
      "text/plain": [
       "<matplotlib.figure.Figure at 0x7ffbfc865e10>"
      ]
     },
     "metadata": {},
     "output_type": "display_data"
    },
    {
     "name": "stdout",
     "output_type": "stream",
     "text": [
      "(733, 7)\n"
     ]
    }
   ],
   "source": [
    "# Grouping by freq=W. W=week, M=month \n",
    "wk = d.groupby(pd.Grouper(key='Start_time', freq='W')).mean()\n",
    "\n",
    "# Computing mean and std\n",
    "wk_mean = wk.values.mean()\n",
    "wk_std = wk.values.std()\n",
    "\n",
    "# Generate series for plot\n",
    "wm = pd.Series(wk_mean, index=wk.index)\n",
    "wm_p_std = pd.Series(wk_mean+wk_std, index=wk.index)\n",
    "wm_m_std = pd.Series(wk_mean-wk_std, index=wk.index)\n",
    "\n",
    "# plot\n",
    "fig, ax = plt.subplots()\n",
    "ax.plot(wk.index, wk.values, label='Duration')\n",
    "ax.plot(wm.index, wm.values, label='Mean')\n",
    "ax.plot(wm_p_std.index, wm_p_std.values)\n",
    "ax.plot(wm_m_std.index, wm_m_std.values)\n",
    "\n",
    "\n",
    "\n",
    "legend = ax.legend(loc='best')\n",
    "\n",
    "plt.ylabel('Duration (mins)')\n",
    "plt.xlabel('Date (weeks)')\n",
    "\n",
    "plt.show()\n",
    "\n",
    "print(d.shape)\n"
   ]
  },
  {
   "cell_type": "code",
   "execution_count": 289,
   "metadata": {
    "scrolled": false
   },
   "outputs": [
    {
     "data": {
      "text/html": [
       "<div>\n",
       "<style>\n",
       "    .dataframe thead tr:only-child th {\n",
       "        text-align: right;\n",
       "    }\n",
       "\n",
       "    .dataframe thead th {\n",
       "        text-align: left;\n",
       "    }\n",
       "\n",
       "    .dataframe tbody tr th {\n",
       "        vertical-align: top;\n",
       "    }\n",
       "</style>\n",
       "<table border=\"1\" class=\"dataframe\">\n",
       "  <thead>\n",
       "    <tr style=\"text-align: right;\">\n",
       "      <th></th>\n",
       "      <th>Start_time</th>\n",
       "      <th>End_time</th>\n",
       "      <th>Duration</th>\n",
       "      <th>Day_group</th>\n",
       "      <th>Weekend_group</th>\n",
       "      <th>Hour_group</th>\n",
       "      <th>Minute_group</th>\n",
       "    </tr>\n",
       "  </thead>\n",
       "  <tbody>\n",
       "    <tr>\n",
       "      <th>0</th>\n",
       "      <td>2010-12-29 21:27:00</td>\n",
       "      <td>2010-12-30 05:24:00</td>\n",
       "      <td>477</td>\n",
       "      <td>2</td>\n",
       "      <td>0</td>\n",
       "      <td>0</td>\n",
       "      <td>0</td>\n",
       "    </tr>\n",
       "    <tr>\n",
       "      <th>1</th>\n",
       "      <td>2010-12-30 21:33:00</td>\n",
       "      <td>2010-12-31 05:15:00</td>\n",
       "      <td>462</td>\n",
       "      <td>3</td>\n",
       "      <td>0</td>\n",
       "      <td>0</td>\n",
       "      <td>1</td>\n",
       "    </tr>\n",
       "    <tr>\n",
       "      <th>2</th>\n",
       "      <td>2010-12-31 21:15:00</td>\n",
       "      <td>2011-01-01 05:38:00</td>\n",
       "      <td>503</td>\n",
       "      <td>4</td>\n",
       "      <td>0</td>\n",
       "      <td>0</td>\n",
       "      <td>0</td>\n",
       "    </tr>\n",
       "    <tr>\n",
       "      <th>3</th>\n",
       "      <td>2011-01-01 21:28:00</td>\n",
       "      <td>2011-01-02 05:56:00</td>\n",
       "      <td>508</td>\n",
       "      <td>5</td>\n",
       "      <td>1</td>\n",
       "      <td>0</td>\n",
       "      <td>0</td>\n",
       "    </tr>\n",
       "    <tr>\n",
       "      <th>4</th>\n",
       "      <td>2011-01-02 21:46:00</td>\n",
       "      <td>2011-01-03 06:10:00</td>\n",
       "      <td>504</td>\n",
       "      <td>6</td>\n",
       "      <td>1</td>\n",
       "      <td>0</td>\n",
       "      <td>1</td>\n",
       "    </tr>\n",
       "  </tbody>\n",
       "</table>\n",
       "</div>"
      ],
      "text/plain": [
       "           Start_time            End_time  Duration  Day_group  Weekend_group  \\\n",
       "0 2010-12-29 21:27:00 2010-12-30 05:24:00       477          2              0   \n",
       "1 2010-12-30 21:33:00 2010-12-31 05:15:00       462          3              0   \n",
       "2 2010-12-31 21:15:00 2011-01-01 05:38:00       503          4              0   \n",
       "3 2011-01-01 21:28:00 2011-01-02 05:56:00       508          5              1   \n",
       "4 2011-01-02 21:46:00 2011-01-03 06:10:00       504          6              1   \n",
       "\n",
       "   Hour_group  Minute_group  \n",
       "0           0             0  \n",
       "1           0             1  \n",
       "2           0             0  \n",
       "3           0             0  \n",
       "4           0             1  "
      ]
     },
     "execution_count": 289,
     "metadata": {},
     "output_type": "execute_result"
    }
   ],
   "source": [
    "def hour_range(x):\n",
    "    val = -1\n",
    "    if x >= 20 & x<22:\n",
    "        val = 0\n",
    "    elif x >= 22 & x<24:\n",
    "        val = 1\n",
    "    elif x >=0 & x<2:\n",
    "        val = 2\n",
    "    elif x>=2 & x<4:\n",
    "        val = 3\n",
    "    elif x>=4 & x<6:\n",
    "        val = 4\n",
    "    \n",
    "    return val\n",
    "    \n",
    "def min_range(x):\n",
    "    val = 0\n",
    "    if x > 30:\n",
    "        val = 1\n",
    "    return val\n",
    "\n",
    "# More features\n",
    "d['Day_group'] = d['Start_time'].map(lambda x: x.dayofweek)\n",
    "d['Weekend_group'] = d['Start_time'].map(lambda x: 1 if x.dayofweek>4 else 0)\n",
    "d['Hour_group'] = d['Start_time'].map(lambda x: hour_range(x.hour))\n",
    "d['Minute_group'] = d['Start_time'].map(lambda x: min_range(x.minute))\n",
    "d.head(5)"
   ]
  },
  {
   "cell_type": "code",
   "execution_count": 296,
   "metadata": {
    "scrolled": true
   },
   "outputs": [
    {
     "data": {
      "text/html": [
       "<div>\n",
       "<style>\n",
       "    .dataframe thead tr:only-child th {\n",
       "        text-align: right;\n",
       "    }\n",
       "\n",
       "    .dataframe thead th {\n",
       "        text-align: left;\n",
       "    }\n",
       "\n",
       "    .dataframe tbody tr th {\n",
       "        vertical-align: top;\n",
       "    }\n",
       "</style>\n",
       "<table border=\"1\" class=\"dataframe\">\n",
       "  <thead>\n",
       "    <tr style=\"text-align: right;\">\n",
       "      <th></th>\n",
       "      <th>Start_time</th>\n",
       "      <th>End_time</th>\n",
       "      <th>Duration</th>\n",
       "    </tr>\n",
       "  </thead>\n",
       "  <tbody>\n",
       "    <tr>\n",
       "      <th>0</th>\n",
       "      <td>2012-12-31 21:03:00</td>\n",
       "      <td>2013-01-01 05:25:00</td>\n",
       "      <td>502</td>\n",
       "    </tr>\n",
       "    <tr>\n",
       "      <th>1</th>\n",
       "      <td>2013-01-01 21:36:00</td>\n",
       "      <td>2013-01-02 06:50:00</td>\n",
       "      <td>554</td>\n",
       "    </tr>\n",
       "    <tr>\n",
       "      <th>2</th>\n",
       "      <td>2013-01-02 21:56:00</td>\n",
       "      <td>2013-01-03 06:04:00</td>\n",
       "      <td>488</td>\n",
       "    </tr>\n",
       "    <tr>\n",
       "      <th>3</th>\n",
       "      <td>2013-01-03 21:30:00</td>\n",
       "      <td>2013-01-04 05:46:00</td>\n",
       "      <td>496</td>\n",
       "    </tr>\n",
       "    <tr>\n",
       "      <th>4</th>\n",
       "      <td>2013-01-04 21:17:00</td>\n",
       "      <td>2013-01-05 05:40:00</td>\n",
       "      <td>503</td>\n",
       "    </tr>\n",
       "  </tbody>\n",
       "</table>\n",
       "</div>"
      ],
      "text/plain": [
       "           Start_time            End_time  Duration\n",
       "0 2012-12-31 21:03:00 2013-01-01 05:25:00       502\n",
       "1 2013-01-01 21:36:00 2013-01-02 06:50:00       554\n",
       "2 2013-01-02 21:56:00 2013-01-03 06:04:00       488\n",
       "3 2013-01-03 21:30:00 2013-01-04 05:46:00       496\n",
       "4 2013-01-04 21:17:00 2013-01-05 05:40:00       503"
      ]
     },
     "execution_count": 296,
     "metadata": {},
     "output_type": "execute_result"
    }
   ],
   "source": [
    "def daily_a(x, start=21):\n",
    "    sleep = random.randint(min_sleep, max_sleep*1.2)\n",
    "    rand_min = random.randint(0, 59)\n",
    "    st_hour = datetime.time(start, rand_min)\n",
    "    start_time = datetime.datetime.combine(x, st_hour)\n",
    "    if(x.dayofweek >= 5):\n",
    "        sleep += random.randint(min_extra, max_extra)\n",
    "    \n",
    "    end_time = start_time + datetime.timedelta(minutes=sleep)\n",
    "    \n",
    "    return start_time, end_time, sleep\n",
    "\n",
    "\n",
    "\n",
    "dates = pd.date_range('2012-12-31', '2013-12-30')\n",
    "start_time, end_time, duration = [], [], []\n",
    "\n",
    "for x in dates:\n",
    "    start=21\n",
    "    rnd = random.randint(0, 9)\n",
    "    if rnd > 4:\n",
    "        start, end, dur = daily_a(x, start)\n",
    "    else:\n",
    "        start, end, dur = daily(x, start)\n",
    "    \n",
    "    start_time.append(start)\n",
    "    end_time.append(end)\n",
    "    duration.append(dur)\n",
    "\n",
    "    \n",
    "dlist = list(zip(start_time, end_time, duration))\n",
    "columns = ['Start_time', 'End_time', 'Duration']\n",
    "d2 = pd.DataFrame(dlist, columns=columns)\n",
    "\n",
    "d2.head(5)"
   ]
  },
  {
   "cell_type": "code",
   "execution_count": 297,
   "metadata": {
    "scrolled": true
   },
   "outputs": [
    {
     "data": {
      "image/png": "[encoded data removed]",
      "text/plain": [
       "<matplotlib.figure.Figure at 0x7ffbfc6d59b0>"
      ]
     },
     "metadata": {},
     "output_type": "display_data"
    }
   ],
   "source": [
    "# Grouping by freq=W. W=week, M=month \n",
    "wk2 = d2.groupby(pd.Grouper(key='Start_time', freq='W')).mean()\n",
    "\n",
    "# Computing mean and std\n",
    "wk2_mean = wk2.values.mean()\n",
    "wk2_std = wk2.values.std()\n",
    "\n",
    "# Generate series for plot\n",
    "wm2 = pd.Series(wk2_mean, index=wk2.index)\n",
    "wm2_p_std = pd.Series(wk2_mean+wk2_std, index=wk2.index)\n",
    "wm2_m_std = pd.Series(wk2_mean-wk2_std, index=wk2.index)\n",
    "\n",
    "# plot\n",
    "fig, ax = plt.subplots()\n",
    "ax.plot(wk2.index, wk2.values, label='Duration')\n",
    "ax.plot(wm2.index, wm2.values, label='Mean')\n",
    "ax.plot(wm2_p_std.index, wm2_p_std.values)\n",
    "ax.plot(wm2_m_std.index, wm2_m_std.values)\n",
    "\n",
    "\n",
    "\n",
    "legend = ax.legend(loc='best')\n",
    "\n",
    "plt.ylabel('Duration (mins)')\n",
    "plt.xlabel('Date (weeks)')\n",
    "\n",
    "plt.show()\n"
   ]
  },
  {
   "cell_type": "code",
   "execution_count": 316,
   "metadata": {},
   "outputs": [
    {
     "data": {
      "image/png": "[encoded data removed]",
      "text/plain": [
       "<matplotlib.figure.Figure at 0x7ffbfc66acc0>"
      ]
     },
     "metadata": {},
     "output_type": "display_data"
    }
   ],
   "source": [
    "# concat the dataframes\n",
    "cd = pd.concat([d, d2])\n",
    "# Grouping by freq=W. W=week, M=month \n",
    "cwk = cd.groupby(pd.Grouper(key='Start_time', freq='W')).mean()\n",
    "# plot\n",
    "fig, ax = plt.subplots()\n",
    "ax.plot(cwk.index, cwk.values, label='Duration')\n",
    "\n",
    "legend = ax.legend(loc='best')\n",
    "\n",
    "plt.ylabel('Duration (mins)')\n",
    "plt.xlabel('Date (weeks)')\n",
    "\n",
    "plt.show()\n"
   ]
  },
  {
   "cell_type": "code",
   "execution_count": 342,
   "metadata": {},
   "outputs": [
    {
     "data": {
      "text/html": [
       "<div>\n",
       "<style>\n",
       "    .dataframe thead tr:only-child th {\n",
       "        text-align: right;\n",
       "    }\n",
       "\n",
       "    .dataframe thead th {\n",
       "        text-align: left;\n",
       "    }\n",
       "\n",
       "    .dataframe tbody tr th {\n",
       "        vertical-align: top;\n",
       "    }\n",
       "</style>\n",
       "<table border=\"1\" class=\"dataframe\">\n",
       "  <thead>\n",
       "    <tr style=\"text-align: right;\">\n",
       "      <th></th>\n",
       "      <th>Day_group</th>\n",
       "      <th>Duration</th>\n",
       "      <th>End_time</th>\n",
       "      <th>Hour_group</th>\n",
       "      <th>Minute_group</th>\n",
       "      <th>Start_time</th>\n",
       "      <th>Weekend_group</th>\n",
       "    </tr>\n",
       "  </thead>\n",
       "  <tbody>\n",
       "    <tr>\n",
       "      <th>355</th>\n",
       "      <td>5</td>\n",
       "      <td>507</td>\n",
       "      <td>2013-12-22 05:54:00</td>\n",
       "      <td>0</td>\n",
       "      <td>0</td>\n",
       "      <td>2013-12-21 21:27:00</td>\n",
       "      <td>1</td>\n",
       "    </tr>\n",
       "    <tr>\n",
       "      <th>356</th>\n",
       "      <td>6</td>\n",
       "      <td>544</td>\n",
       "      <td>2013-12-23 06:27:00</td>\n",
       "      <td>0</td>\n",
       "      <td>0</td>\n",
       "      <td>2013-12-22 21:23:00</td>\n",
       "      <td>1</td>\n",
       "    </tr>\n",
       "    <tr>\n",
       "      <th>357</th>\n",
       "      <td>0</td>\n",
       "      <td>599</td>\n",
       "      <td>2013-12-24 07:44:00</td>\n",
       "      <td>0</td>\n",
       "      <td>1</td>\n",
       "      <td>2013-12-23 21:45:00</td>\n",
       "      <td>0</td>\n",
       "    </tr>\n",
       "    <tr>\n",
       "      <th>358</th>\n",
       "      <td>1</td>\n",
       "      <td>503</td>\n",
       "      <td>2013-12-25 06:15:00</td>\n",
       "      <td>0</td>\n",
       "      <td>1</td>\n",
       "      <td>2013-12-24 21:52:00</td>\n",
       "      <td>0</td>\n",
       "    </tr>\n",
       "    <tr>\n",
       "      <th>359</th>\n",
       "      <td>2</td>\n",
       "      <td>536</td>\n",
       "      <td>2013-12-26 06:50:00</td>\n",
       "      <td>0</td>\n",
       "      <td>1</td>\n",
       "      <td>2013-12-25 21:54:00</td>\n",
       "      <td>0</td>\n",
       "    </tr>\n",
       "    <tr>\n",
       "      <th>360</th>\n",
       "      <td>3</td>\n",
       "      <td>523</td>\n",
       "      <td>2013-12-27 05:55:00</td>\n",
       "      <td>0</td>\n",
       "      <td>0</td>\n",
       "      <td>2013-12-26 21:12:00</td>\n",
       "      <td>0</td>\n",
       "    </tr>\n",
       "    <tr>\n",
       "      <th>361</th>\n",
       "      <td>4</td>\n",
       "      <td>461</td>\n",
       "      <td>2013-12-28 04:46:00</td>\n",
       "      <td>0</td>\n",
       "      <td>0</td>\n",
       "      <td>2013-12-27 21:05:00</td>\n",
       "      <td>0</td>\n",
       "    </tr>\n",
       "    <tr>\n",
       "      <th>362</th>\n",
       "      <td>5</td>\n",
       "      <td>548</td>\n",
       "      <td>2013-12-29 06:11:00</td>\n",
       "      <td>0</td>\n",
       "      <td>0</td>\n",
       "      <td>2013-12-28 21:03:00</td>\n",
       "      <td>1</td>\n",
       "    </tr>\n",
       "    <tr>\n",
       "      <th>363</th>\n",
       "      <td>6</td>\n",
       "      <td>531</td>\n",
       "      <td>2013-12-30 05:54:00</td>\n",
       "      <td>0</td>\n",
       "      <td>0</td>\n",
       "      <td>2013-12-29 21:03:00</td>\n",
       "      <td>1</td>\n",
       "    </tr>\n",
       "    <tr>\n",
       "      <th>364</th>\n",
       "      <td>0</td>\n",
       "      <td>479</td>\n",
       "      <td>2013-12-31 05:22:00</td>\n",
       "      <td>0</td>\n",
       "      <td>0</td>\n",
       "      <td>2013-12-30 21:23:00</td>\n",
       "      <td>0</td>\n",
       "    </tr>\n",
       "  </tbody>\n",
       "</table>\n",
       "</div>"
      ],
      "text/plain": [
       "     Day_group  Duration            End_time  Hour_group  Minute_group  \\\n",
       "355          5       507 2013-12-22 05:54:00           0             0   \n",
       "356          6       544 2013-12-23 06:27:00           0             0   \n",
       "357          0       599 2013-12-24 07:44:00           0             1   \n",
       "358          1       503 2013-12-25 06:15:00           0             1   \n",
       "359          2       536 2013-12-26 06:50:00           0             1   \n",
       "360          3       523 2013-12-27 05:55:00           0             0   \n",
       "361          4       461 2013-12-28 04:46:00           0             0   \n",
       "362          5       548 2013-12-29 06:11:00           0             0   \n",
       "363          6       531 2013-12-30 05:54:00           0             0   \n",
       "364          0       479 2013-12-31 05:22:00           0             0   \n",
       "\n",
       "             Start_time  Weekend_group  \n",
       "355 2013-12-21 21:27:00              1  \n",
       "356 2013-12-22 21:23:00              1  \n",
       "357 2013-12-23 21:45:00              0  \n",
       "358 2013-12-24 21:52:00              0  \n",
       "359 2013-12-25 21:54:00              0  \n",
       "360 2013-12-26 21:12:00              0  \n",
       "361 2013-12-27 21:05:00              0  \n",
       "362 2013-12-28 21:03:00              1  \n",
       "363 2013-12-29 21:03:00              1  \n",
       "364 2013-12-30 21:23:00              0  "
      ]
     },
     "execution_count": 342,
     "metadata": {},
     "output_type": "execute_result"
    }
   ],
   "source": [
    "# Recomputing Features for cd\n",
    "cd['Day_group'] = cd['Start_time'].map(lambda x: x.dayofweek)\n",
    "cd['Weekend_group'] = cd['Start_time'].map(lambda x: 1 if x.dayofweek>4 else 0)\n",
    "cd['Hour_group'] = cd['Start_time'].map(lambda x: hour_range(x.hour))\n",
    "cd['Minute_group'] = cd['Start_time'].map(lambda x: min_range(x.minute))\n",
    "cd.tail(10)\n"
   ]
  },
  {
   "cell_type": "code",
   "execution_count": 445,
   "metadata": {},
   "outputs": [
    {
     "data": {
      "image/png": "[encoded data removed]",
      "text/plain": [
       "<matplotlib.figure.Figure at 0x7ffbf616f080>"
      ]
     },
     "metadata": {},
     "output_type": "display_data"
    }
   ],
   "source": [
    "mad = lambda x: np.fabs(x - x.mean()).mean()\n",
    "sdd = cd['Duration'].rolling(2).apply(mad)\n",
    "cd['MAD'] = sdd\n",
    "cd.head(10)\n",
    "# Grouping by freq=W. W=week, M=month \n",
    "cwk = cd.groupby(pd.Grouper(key='Start_time', freq='M')).mean()\n",
    "# plot\n",
    "fig, ax = plt.subplots()\n",
    "ax.plot(cwk.index, cwk.values, label='Duration')\n",
    "\n",
    "legend = ax.legend(loc='best')\n",
    "\n",
    "plt.ylabel('Duration (mins)')\n",
    "plt.xlabel('Date (weeks)')\n",
    "\n",
    "plt.show()"
   ]
  },
  {
   "cell_type": "code",
   "execution_count": 446,
   "metadata": {},
   "outputs": [
    {
     "data": {
      "text/plain": [
       "(1098, 4)"
      ]
     },
     "execution_count": 446,
     "metadata": {},
     "output_type": "execute_result"
    }
   ],
   "source": [
    "dataset = cd[['Day_group', 'Hour_group', 'Weekend_group', 'MAD']].values\n",
    "dataset = np.nan_to_num(dataset)\n",
    "dataset.shape"
   ]
  },
  {
   "cell_type": "code",
   "execution_count": 447,
   "metadata": {},
   "outputs": [
    {
     "name": "stdout",
     "output_type": "stream",
     "text": [
      "600\n",
      "133\n",
      "365\n",
      "104\n",
      "28\n",
      "212\n"
     ]
    }
   ],
   "source": [
    "import numpy as np\n",
    "import matplotlib.pyplot as plt\n",
    "import matplotlib.font_manager\n",
    "from sklearn import svm\n",
    "\n",
    "axx, yy = np.meshgrid(np.linspace(-5, 5, 500), np.linspace(-5, 5, 500))\n",
    "# Generate train data\n",
    "X_train = dataset[:600, :]\n",
    "X_test = dataset[600:733, :]\n",
    "X_outliers = dataset[733:, :]\n",
    "\n",
    "# fit the model\n",
    "clf = svm.OneClassSVM(nu=0.1, kernel=\"rbf\", gamma=0.1)\n",
    "clf.fit(X_train)\n",
    "y_pred_train = clf.predict(X_train)\n",
    "y_pred_test = clf.predict(X_test)\n",
    "y_pred_outliers = clf.predict(X_outliers)\n",
    "n_error_train = y_pred_train[y_pred_train == -1].size\n",
    "n_error_test = y_pred_test[y_pred_test == -1].size\n",
    "n_error_outliers = y_pred_outliers[y_pred_outliers == 1].size\n",
    "\n",
    "\n",
    "print(X_train.shape[0])\n",
    "print(X_test.shape[0])\n",
    "print(X_outliers.shape[0])\n",
    "print(n_error_train)\n",
    "print(n_error_test)\n",
    "print(n_error_outliers)"
   ]
  },
  {
   "cell_type": "code",
   "execution_count": null,
   "metadata": {
    "collapsed": true
   },
   "outputs": [],
   "source": []
  },
  {
   "cell_type": "code",
   "execution_count": null,
   "metadata": {
    "collapsed": true
   },
   "outputs": [],
   "source": []
  }
 ],
 "metadata": {
  "kernelspec": {
   "display_name": "Python 3",
   "language": "python",
   "name": "python3"
  },
  "language_info": {
   "codemirror_mode": {
    "name": "ipython",
    "version": 3
   },
   "file_extension": ".py",
   "mimetype": "text/x-python",
   "name": "python",
   "nbconvert_exporter": "python",
   "pygments_lexer": "ipython3",
   "version": "3.6.3"
  }
 },
 "nbformat": 4,
 "nbformat_minor": 2
}
